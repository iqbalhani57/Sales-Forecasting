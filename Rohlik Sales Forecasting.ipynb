{
 "cells": [
  {
   "cell_type": "code",
   "execution_count": null,
   "metadata": {},
   "outputs": [],
   "source": [
    "!kaggle datasets download -c rohlik-sales-forecasting-challenge-v2"
   ]
  },
  {
   "cell_type": "code",
   "execution_count": 13,
   "metadata": {},
   "outputs": [
    {
     "name": "stdout",
     "output_type": "stream",
     "text": [
      "Archive:  rohlik-sales-forecasting-challenge-v2.zip\n",
      "  inflating: calendar.csv            \n",
      "  inflating: inventory.csv           \n",
      "  inflating: sales_test.csv          \n",
      "  inflating: sales_train.csv         \n",
      "  inflating: solution.csv            \n",
      "  inflating: test_weights.csv        \n"
     ]
    }
   ],
   "source": [
    "!unzip rohlik-sales-forecasting-challenge-v2.zip"
   ]
  }
 ],
 "metadata": {
  "kernelspec": {
   "display_name": "Python 3",
   "language": "python",
   "name": "python3"
  },
  "language_info": {
   "codemirror_mode": {
    "name": "ipython",
    "version": 3
   },
   "file_extension": ".py",
   "mimetype": "text/x-python",
   "name": "python",
   "nbconvert_exporter": "python",
   "pygments_lexer": "ipython3",
   "version": "3.12.3"
  }
 },
 "nbformat": 4,
 "nbformat_minor": 2
}
