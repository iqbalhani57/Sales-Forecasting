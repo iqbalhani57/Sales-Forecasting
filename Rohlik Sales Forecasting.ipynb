{
 "cells": [
  {
   "cell_type": "markdown",
   "metadata": {},
   "source": [
    "# **Rohlik Sales Forecasting, Kaggle Competition**"
   ]
  },
  {
   "cell_type": "markdown",
   "metadata": {},
   "source": [
    "Why This Matters\n",
    "Accurate sales forecasts are crucial for planning process, supply chain processes, delivery logistics and inventory management. By optimizing forecasts, we can minimize waste and streamline operations, making our e-grocery services more sustainable and efficient.\n",
    "\n",
    "Your Impact\n",
    "Your participation in this challenge will directly contribute to Rohlik mission of sustainable and efficient e-grocery delivery. Your insights will help us enhance customer service and achieve a greener future."
   ]
  },
  {
   "cell_type": "markdown",
   "metadata": {},
   "source": [
    "Dataset Description\n",
    "You are provided with historical sales data for selected Rohlik inventory and date. IDs, sales, total orders and price columns are altered to keep the real values confidential. Some features are not available in test as they are not known at the moment of making the prediction. The task is to forecast the sales column for a given id, constructed from unique_id and date (e. g. id 1226_2024-06-03 from unique_id 1226 and date 2024-06-03), for the test set.\n",
    "\n",
    "Files\n",
    "sales_train.csv - training set containing the historical sales data for given date and inventory with selected features described below\n",
    "sales_test.csv - full testing set\n",
    "inventory.csv - additional information about inventory like its product (same products across all warehouses share same product unique id and name, but have different unique id)\n",
    "solution.csv - full submission file in the correct format\n",
    "calendar.csv - calendar containing data about holidays or warehouse specific events, some columns are already in the train data but there are additional rows in this file for dates where some warehouses could be closed due to public holiday or Sunday (and therefore they are not in the train set)"
   ]
  },
  {
   "cell_type": "markdown",
   "metadata": {},
   "source": [
    "# *Data*"
   ]
  },
  {
   "cell_type": "markdown",
   "metadata": {},
   "source": [
    "## Columns\n",
    "### *sales_train.csv and sales_test.csv*\n",
    "\n",
    "- <span style=\"background-color: grey\">unique_id</span>- unique id for inventory\n",
    "- <span style=\"background-color: grey\">date</span> - date\n",
    "- <span style=\"background-color: grey\">warehouse</span> - warehouse name\n",
    "- <span style=\"background-color: grey\">total_orders</span> - historical orders for selected Rohlik warehouse known also for test set as a part of this challenge\n",
    "- <span style=\"background-color: grey\">sales</span> - Target value, sales volume (either in pcs or kg) adjusted by availability. The sales with lower availability than 1 are already adjusted to full potential sales by Rohlik internal logic. There might be missing dates both in train and \n",
    "test for a given inventory due to various reasons. This column is missing in test.csv as it is target variable.\n",
    "- <span style=\"background-color: grey\">sell_price_main</span> - sell price\n",
    "- <span style=\"background-color: grey\">availability</span> - proportion of the day that the inventory was available to customers. The inventory doesn't need to be available at all times. A value of 1 means it was available for the entire day. This column is missing in test.csv as it is not known at the moment of making the prediction.\n",
    "- <span style=\"background-color: grey\">type_0_discount</span>, <span style=\"background-color: grey\">type_1_discount</span>, … - Rohlik is running different types of promo sale actions, these show the percentage of the original price during promo ((original price - current_price) / original_price). Multiple discounts with different type can be run at the same time, but always the highest possible discount among these types is used for sales. Negative discount value should be interpreted as no discount.\n",
    "\n",
    "### *inventory.csv*\n",
    "\n",
    "- <span style=\"background-color: grey\">unique_id</span> - inventory id for a single keeping unit\n",
    "- <span style=\"background-color: grey\">product_unique_id</span> - product id, inventory in each warehouse has the same product unique id (same products across all warehouses has the same product id, but different unique id)\n",
    "- <span style=\"background-color: grey\">name</span> - inventory id for a single keeping unit\n",
    "- <span style=\"background-color: grey\">L1_category_name</span>, <span style=\"background-color: grey\">L2_category_name</span>, … - name of the internal category, the higher the number, the more granular information is present\n",
    "- <span style=\"background-color: grey\">warehouse</span> - warehouse name\n",
    "\n",
    "### *calendar.csv*\n",
    "\n",
    "- <span style=\"background-color: grey\">warehouse</span> - warehouse name\n",
    "- <span style=\"background-color: grey\">date</span> - date\n",
    "- <span style=\"background-color: grey\">holiday_name</span> - name of public holiday if any\n",
    "- <span style=\"background-color: grey\">holiday</span> - 0/1 indicating the presence of holidays\n",
    "- <span style=\"background-color: grey\">shops_closed</span> - public holiday with most of the shops or large part of shops closed\n",
    "- <span style=\"background-color: grey\">winter_school_holidays</span> - winter school holidays\n",
    "- <span style=\"background-color: grey\">school_holidays</span> - school holidays\n",
    "\n",
    "### *test_weights.csv*\n",
    "\n",
    "- <span style=\"background-color: grey\">unique_id</span> - inventory id for a single keeping unit\n",
    "- <span style=\"background-color: grey\">weight</span> - weight used for final metric computation"
   ]
  },
  {
   "cell_type": "code",
   "execution_count": 1,
   "metadata": {},
   "outputs": [
    {
     "name": "stdout",
     "output_type": "stream",
     "text": [
      "Missing the required parameter `owner_slug` when calling `metadata_get`\n"
     ]
    }
   ],
   "source": [
    "#Data Download\n",
    "!kaggle datasets download -d rohlik-sales-forecasting-challenge-v2"
   ]
  },
  {
   "cell_type": "code",
   "execution_count": null,
   "metadata": {},
   "outputs": [],
   "source": [
    "#Unzip Data\n",
    "!unzip Data/rohlik-sales-forecasting-challenge-v2.zip"
   ]
  },
  {
   "cell_type": "markdown",
   "metadata": {},
   "source": [
    "## *Import Data*"
   ]
  },
  {
   "cell_type": "code",
   "execution_count": 2,
   "metadata": {},
   "outputs": [
    {
     "name": "stdout",
     "output_type": "stream",
     "text": [
      "Defaulting to user installation because normal site-packages is not writeable\n",
      "Collecting polars\n",
      "  Downloading polars-1.21.0-cp39-abi3-manylinux_2_17_x86_64.manylinux2014_x86_64.whl.metadata (14 kB)\n",
      "Downloading polars-1.21.0-cp39-abi3-manylinux_2_17_x86_64.manylinux2014_x86_64.whl (31.6 MB)\n",
      "\u001b[2K   \u001b[90m━━━━━━━━━━━━━━━━━━━━━━━━━━━━━━━━━━━━━━━━\u001b[0m \u001b[32m31.6/31.6 MB\u001b[0m \u001b[31m3.4 MB/s\u001b[0m eta \u001b[36m0:00:00\u001b[0m00:01\u001b[0m00:01\u001b[0m\n",
      "\u001b[?25hInstalling collected packages: polars\n",
      "Successfully installed polars-1.21.0\n"
     ]
    }
   ],
   "source": [
    "!pip install polars --break-system-packages"
   ]
  },
  {
   "cell_type": "code",
   "execution_count": 3,
   "metadata": {},
   "outputs": [
    {
     "name": "stdout",
     "output_type": "stream",
     "text": [
      "Sales Train:\n",
      " shape: (5, 14)\n",
      "┌───────────┬───────────┬───────────┬───────────┬───┬───────────┬───────────┬───────────┬──────────┐\n",
      "│ unique_id ┆ date      ┆ warehouse ┆ total_ord ┆ … ┆ type_3_di ┆ type_4_di ┆ type_5_di ┆ type_6_d │\n",
      "│ ---       ┆ ---       ┆ ---       ┆ ers       ┆   ┆ scount    ┆ scount    ┆ scount    ┆ iscount  │\n",
      "│ i64       ┆ str       ┆ str       ┆ ---       ┆   ┆ ---       ┆ ---       ┆ ---       ┆ ---      │\n",
      "│           ┆           ┆           ┆ f64       ┆   ┆ f64       ┆ f64       ┆ f64       ┆ f64      │\n",
      "╞═══════════╪═══════════╪═══════════╪═══════════╪═══╪═══════════╪═══════════╪═══════════╪══════════╡\n",
      "│ 4845      ┆ 2024-03-1 ┆ Budapest_ ┆ 6436.0    ┆ … ┆ 0.0       ┆ 0.15312   ┆ 0.0       ┆ 0.0      │\n",
      "│           ┆ 0         ┆ 1         ┆           ┆   ┆           ┆           ┆           ┆          │\n",
      "│ 4845      ┆ 2021-05-2 ┆ Budapest_ ┆ 4663.0    ┆ … ┆ 0.0       ┆ 0.15025   ┆ 0.0       ┆ 0.0      │\n",
      "│           ┆ 5         ┆ 1         ┆           ┆   ┆           ┆           ┆           ┆          │\n",
      "│ 4845      ┆ 2021-12-2 ┆ Budapest_ ┆ 6507.0    ┆ … ┆ 0.0       ┆ 0.15025   ┆ 0.0       ┆ 0.0      │\n",
      "│           ┆ 0         ┆ 1         ┆           ┆   ┆           ┆           ┆           ┆          │\n",
      "│ 4845      ┆ 2023-04-2 ┆ Budapest_ ┆ 5463.0    ┆ … ┆ 0.0       ┆ 0.15312   ┆ 0.0       ┆ 0.0      │\n",
      "│           ┆ 9         ┆ 1         ┆           ┆   ┆           ┆           ┆           ┆          │\n",
      "│ 4845      ┆ 2022-04-0 ┆ Budapest_ ┆ 5997.0    ┆ … ┆ 0.0       ┆ 0.15649   ┆ 0.0       ┆ 0.0      │\n",
      "│           ┆ 1         ┆ 1         ┆           ┆   ┆           ┆           ┆           ┆          │\n",
      "└───────────┴───────────┴───────────┴───────────┴───┴───────────┴───────────┴───────────┴──────────┘ \n",
      "\n",
      "Inventory:\n",
      " shape: (5, 8)\n",
      "┌───────────┬────────────┬────────────┬────────────┬───────────┬───────────┬───────────┬───────────┐\n",
      "│ unique_id ┆ product_un ┆ name       ┆ L1_categor ┆ L2_catego ┆ L3_catego ┆ L4_catego ┆ warehouse │\n",
      "│ ---       ┆ ique_id    ┆ ---        ┆ y_name_en  ┆ ry_name_e ┆ ry_name_e ┆ ry_name_e ┆ ---       │\n",
      "│ i64       ┆ ---        ┆ str        ┆ ---        ┆ n         ┆ n         ┆ n         ┆ str       │\n",
      "│           ┆ i64        ┆            ┆ str        ┆ ---       ┆ ---       ┆ ---       ┆           │\n",
      "│           ┆            ┆            ┆            ┆ str       ┆ str       ┆ str       ┆           │\n",
      "╞═══════════╪════════════╪════════════╪════════════╪═══════════╪═══════════╪═══════════╪═══════════╡\n",
      "│ 5255      ┆ 2583       ┆ Pastry_196 ┆ Bakery     ┆ Bakery_L2 ┆ Bakery_L3 ┆ Bakery_L4 ┆ Prague_3  │\n",
      "│           ┆            ┆            ┆            ┆ _14       ┆ _26       ┆ _1        ┆           │\n",
      "│ 4948      ┆ 2426       ┆ Herb_19    ┆ Fruit and  ┆ Fruit and ┆ Fruit and ┆ Fruit and ┆ Prague_3  │\n",
      "│           ┆            ┆            ┆ vegetable  ┆ vegetable ┆ vegetable ┆ vegetable ┆           │\n",
      "│           ┆            ┆            ┆            ┆ _L2_30    ┆ _L3_86    ┆ _L4_1     ┆           │\n",
      "│ 2146      ┆ 1079       ┆ Beet_2     ┆ Fruit and  ┆ Fruit and ┆ Fruit and ┆ Fruit and ┆ Prague_1  │\n",
      "│           ┆            ┆            ┆ vegetable  ┆ vegetable ┆ vegetable ┆ vegetable ┆           │\n",
      "│           ┆            ┆            ┆            ┆ _L2_3     ┆ _L3_65    ┆ _L4_34    ┆           │\n",
      "│ 501       ┆ 260        ┆ Chicken_13 ┆ Meat and   ┆ Meat and  ┆ Meat and  ┆ Meat and  ┆ Prague_1  │\n",
      "│           ┆            ┆            ┆ fish       ┆ fish_L2_1 ┆ fish_L3_2 ┆ fish_L4_5 ┆           │\n",
      "│           ┆            ┆            ┆            ┆ 3         ┆ 7         ┆           ┆           │\n",
      "│ 4461      ┆ 2197       ┆ Chicory_1  ┆ Fruit and  ┆ Fruit and ┆ Fruit and ┆ Fruit and ┆ Frankfurt │\n",
      "│           ┆            ┆            ┆ vegetable  ┆ vegetable ┆ vegetable ┆ vegetable ┆ _1        │\n",
      "│           ┆            ┆            ┆            ┆ _L2_17    ┆ _L3_33    ┆ _L4_1     ┆           │\n",
      "└───────────┴────────────┴────────────┴────────────┴───────────┴───────────┴───────────┴───────────┘ \n",
      "\n",
      "Calendar:\n",
      " shape: (5, 7)\n",
      "┌────────────┬──────────────┬─────────┬──────────────┬───────────────┬───────────────┬─────────────┐\n",
      "│ date       ┆ holiday_name ┆ holiday ┆ shops_closed ┆ winter_school ┆ school_holida ┆ warehouse   │\n",
      "│ ---        ┆ ---          ┆ ---     ┆ ---          ┆ _holidays     ┆ ys            ┆ ---         │\n",
      "│ str        ┆ str          ┆ i64     ┆ i64          ┆ ---           ┆ ---           ┆ str         │\n",
      "│            ┆              ┆         ┆              ┆ i64           ┆ i64           ┆             │\n",
      "╞════════════╪══════════════╪═════════╪══════════════╪═══════════════╪═══════════════╪═════════════╡\n",
      "│ 2022-03-16 ┆ null         ┆ 0       ┆ 0            ┆ 0             ┆ 0             ┆ Frankfurt_1 │\n",
      "│ 2020-03-22 ┆ null         ┆ 0       ┆ 0            ┆ 0             ┆ 0             ┆ Frankfurt_1 │\n",
      "│ 2018-02-07 ┆ null         ┆ 0       ┆ 0            ┆ 0             ┆ 0             ┆ Frankfurt_1 │\n",
      "│ 2018-08-10 ┆ null         ┆ 0       ┆ 0            ┆ 0             ┆ 0             ┆ Frankfurt_1 │\n",
      "│ 2017-10-26 ┆ null         ┆ 0       ┆ 0            ┆ 0             ┆ 0             ┆ Prague_2    │\n",
      "└────────────┴──────────────┴─────────┴──────────────┴───────────────┴───────────────┴─────────────┘ \n",
      "\n",
      "Test Weights:\n",
      " shape: (5, 2)\n",
      "┌───────────┬──────────┐\n",
      "│ unique_id ┆ weight   │\n",
      "│ ---       ┆ ---      │\n",
      "│ i64       ┆ f64      │\n",
      "╞═══════════╪══════════╡\n",
      "│ 0         ┆ 2.535369 │\n",
      "│ 1         ┆ 3.888933 │\n",
      "│ 2         ┆ 5.885237 │\n",
      "│ 3         ┆ 2.139552 │\n",
      "│ 5         ┆ 3.021715 │\n",
      "└───────────┴──────────┘ \n",
      "\n",
      "Solution:\n",
      " shape: (5, 2)\n",
      "┌─────────────────┬───────────┐\n",
      "│ id              ┆ sales_hat │\n",
      "│ ---             ┆ ---       │\n",
      "│ str             ┆ i64       │\n",
      "╞═════════════════╪═══════════╡\n",
      "│ 1226_2024-06-03 ┆ 0         │\n",
      "│ 1226_2024-06-11 ┆ 0         │\n",
      "│ 1226_2024-06-13 ┆ 0         │\n",
      "│ 1226_2024-06-15 ┆ 0         │\n",
      "│ 1226_2024-06-09 ┆ 0         │\n",
      "└─────────────────┴───────────┘ \n",
      "\n"
     ]
    }
   ],
   "source": [
    "#Import Data using Polars\n",
    "import polars as pl\n",
    "sales_train     = pl.read_csv(f\"Data/sales_train.csv\")\n",
    "inventory       = pl.read_csv(f\"Data/inventory.csv\")\n",
    "calendar        = pl.read_csv(f\"Data/calendar.csv\")\n",
    "test_weights    = pl.read_csv(f\"Data/test_weights.csv\")\n",
    "solution        = pl.read_csv(f\"Data/solution.csv\")\n",
    "\n",
    "# Print first 5 rows for each DataFrame\n",
    "print(\"Sales Train:\\n\", sales_train.head(5), \"\\n\")\n",
    "print(\"Inventory:\\n\", inventory.head(5), \"\\n\")\n",
    "print(\"Calendar:\\n\", calendar.head(5), \"\\n\")\n",
    "print(\"Test Weights:\\n\", test_weights.head(5), \"\\n\")\n",
    "print(\"Solution:\\n\", solution.head(5), \"\\n\")"
   ]
  },
  {
   "cell_type": "code",
   "execution_count": 11,
   "metadata": {},
   "outputs": [
    {
     "data": {
      "text/html": [
       "<div><style>\n",
       ".dataframe > thead > tr,\n",
       ".dataframe > tbody > tr {\n",
       "  text-align: right;\n",
       "  white-space: pre-wrap;\n",
       "}\n",
       "</style>\n",
       "<small>shape: (4_007_419, 14)</small><table border=\"1\" class=\"dataframe\"><thead><tr><th>unique_id</th><th>date</th><th>warehouse</th><th>total_orders</th><th>sales</th><th>sell_price_main</th><th>availability</th><th>type_0_discount</th><th>type_1_discount</th><th>type_2_discount</th><th>type_3_discount</th><th>type_4_discount</th><th>type_5_discount</th><th>type_6_discount</th></tr><tr><td>i64</td><td>str</td><td>str</td><td>f64</td><td>f64</td><td>f64</td><td>f64</td><td>f64</td><td>f64</td><td>f64</td><td>f64</td><td>f64</td><td>f64</td><td>f64</td></tr></thead><tbody><tr><td>4845</td><td>&quot;2024-03-10&quot;</td><td>&quot;Budapest_1&quot;</td><td>6436.0</td><td>16.34</td><td>646.26</td><td>1.0</td><td>0.0</td><td>0.0</td><td>0.0</td><td>0.0</td><td>0.15312</td><td>0.0</td><td>0.0</td></tr><tr><td>4845</td><td>&quot;2021-05-25&quot;</td><td>&quot;Budapest_1&quot;</td><td>4663.0</td><td>12.63</td><td>455.96</td><td>1.0</td><td>0.0</td><td>0.0</td><td>0.0</td><td>0.0</td><td>0.15025</td><td>0.0</td><td>0.0</td></tr><tr><td>4845</td><td>&quot;2021-12-20&quot;</td><td>&quot;Budapest_1&quot;</td><td>6507.0</td><td>34.55</td><td>455.96</td><td>1.0</td><td>0.0</td><td>0.0</td><td>0.0</td><td>0.0</td><td>0.15025</td><td>0.0</td><td>0.0</td></tr><tr><td>4845</td><td>&quot;2023-04-29&quot;</td><td>&quot;Budapest_1&quot;</td><td>5463.0</td><td>34.52</td><td>646.26</td><td>0.96</td><td>0.20024</td><td>0.0</td><td>0.0</td><td>0.0</td><td>0.15312</td><td>0.0</td><td>0.0</td></tr><tr><td>4845</td><td>&quot;2022-04-01&quot;</td><td>&quot;Budapest_1&quot;</td><td>5997.0</td><td>35.92</td><td>486.41</td><td>1.0</td><td>0.0</td><td>0.0</td><td>0.0</td><td>0.0</td><td>0.15649</td><td>0.0</td><td>0.0</td></tr><tr><td>&hellip;</td><td>&hellip;</td><td>&hellip;</td><td>&hellip;</td><td>&hellip;</td><td>&hellip;</td><td>&hellip;</td><td>&hellip;</td><td>&hellip;</td><td>&hellip;</td><td>&hellip;</td><td>&hellip;</td><td>&hellip;</td><td>&hellip;</td></tr><tr><td>4941</td><td>&quot;2023-06-21&quot;</td><td>&quot;Prague_1&quot;</td><td>9988.0</td><td>26.56</td><td>34.06</td><td>1.0</td><td>0.0</td><td>0.0</td><td>0.0</td><td>0.0</td><td>0.0</td><td>0.0</td><td>0.0</td></tr><tr><td>4941</td><td>&quot;2023-06-24&quot;</td><td>&quot;Prague_1&quot;</td><td>8518.0</td><td>27.42</td><td>34.06</td><td>1.0</td><td>0.0</td><td>0.0</td><td>0.0</td><td>0.0</td><td>0.0</td><td>0.0</td><td>0.0</td></tr><tr><td>4941</td><td>&quot;2023-06-23&quot;</td><td>&quot;Prague_1&quot;</td><td>10424.0</td><td>33.39</td><td>34.06</td><td>1.0</td><td>0.0</td><td>0.0</td><td>0.0</td><td>0.0</td><td>0.0</td><td>0.0</td><td>0.0</td></tr><tr><td>4941</td><td>&quot;2023-06-22&quot;</td><td>&quot;Prague_1&quot;</td><td>10342.0</td><td>22.88</td><td>34.06</td><td>1.0</td><td>0.0</td><td>0.0</td><td>0.0</td><td>0.0</td><td>0.0</td><td>0.0</td><td>0.0</td></tr><tr><td>4941</td><td>&quot;2023-06-20&quot;</td><td>&quot;Prague_1&quot;</td><td>9613.0</td><td>32.1</td><td>34.06</td><td>1.0</td><td>0.0</td><td>0.0</td><td>0.0</td><td>0.0</td><td>0.0</td><td>0.0</td><td>0.0</td></tr></tbody></table></div>"
      ],
      "text/plain": [
       "shape: (4_007_419, 14)\n",
       "┌───────────┬───────────┬───────────┬───────────┬───┬───────────┬───────────┬───────────┬──────────┐\n",
       "│ unique_id ┆ date      ┆ warehouse ┆ total_ord ┆ … ┆ type_3_di ┆ type_4_di ┆ type_5_di ┆ type_6_d │\n",
       "│ ---       ┆ ---       ┆ ---       ┆ ers       ┆   ┆ scount    ┆ scount    ┆ scount    ┆ iscount  │\n",
       "│ i64       ┆ str       ┆ str       ┆ ---       ┆   ┆ ---       ┆ ---       ┆ ---       ┆ ---      │\n",
       "│           ┆           ┆           ┆ f64       ┆   ┆ f64       ┆ f64       ┆ f64       ┆ f64      │\n",
       "╞═══════════╪═══════════╪═══════════╪═══════════╪═══╪═══════════╪═══════════╪═══════════╪══════════╡\n",
       "│ 4845      ┆ 2024-03-1 ┆ Budapest_ ┆ 6436.0    ┆ … ┆ 0.0       ┆ 0.15312   ┆ 0.0       ┆ 0.0      │\n",
       "│           ┆ 0         ┆ 1         ┆           ┆   ┆           ┆           ┆           ┆          │\n",
       "│ 4845      ┆ 2021-05-2 ┆ Budapest_ ┆ 4663.0    ┆ … ┆ 0.0       ┆ 0.15025   ┆ 0.0       ┆ 0.0      │\n",
       "│           ┆ 5         ┆ 1         ┆           ┆   ┆           ┆           ┆           ┆          │\n",
       "│ 4845      ┆ 2021-12-2 ┆ Budapest_ ┆ 6507.0    ┆ … ┆ 0.0       ┆ 0.15025   ┆ 0.0       ┆ 0.0      │\n",
       "│           ┆ 0         ┆ 1         ┆           ┆   ┆           ┆           ┆           ┆          │\n",
       "│ 4845      ┆ 2023-04-2 ┆ Budapest_ ┆ 5463.0    ┆ … ┆ 0.0       ┆ 0.15312   ┆ 0.0       ┆ 0.0      │\n",
       "│           ┆ 9         ┆ 1         ┆           ┆   ┆           ┆           ┆           ┆          │\n",
       "│ 4845      ┆ 2022-04-0 ┆ Budapest_ ┆ 5997.0    ┆ … ┆ 0.0       ┆ 0.15649   ┆ 0.0       ┆ 0.0      │\n",
       "│           ┆ 1         ┆ 1         ┆           ┆   ┆           ┆           ┆           ┆          │\n",
       "│ …         ┆ …         ┆ …         ┆ …         ┆ … ┆ …         ┆ …         ┆ …         ┆ …        │\n",
       "│ 4941      ┆ 2023-06-2 ┆ Prague_1  ┆ 9988.0    ┆ … ┆ 0.0       ┆ 0.0       ┆ 0.0       ┆ 0.0      │\n",
       "│           ┆ 1         ┆           ┆           ┆   ┆           ┆           ┆           ┆          │\n",
       "│ 4941      ┆ 2023-06-2 ┆ Prague_1  ┆ 8518.0    ┆ … ┆ 0.0       ┆ 0.0       ┆ 0.0       ┆ 0.0      │\n",
       "│           ┆ 4         ┆           ┆           ┆   ┆           ┆           ┆           ┆          │\n",
       "│ 4941      ┆ 2023-06-2 ┆ Prague_1  ┆ 10424.0   ┆ … ┆ 0.0       ┆ 0.0       ┆ 0.0       ┆ 0.0      │\n",
       "│           ┆ 3         ┆           ┆           ┆   ┆           ┆           ┆           ┆          │\n",
       "│ 4941      ┆ 2023-06-2 ┆ Prague_1  ┆ 10342.0   ┆ … ┆ 0.0       ┆ 0.0       ┆ 0.0       ┆ 0.0      │\n",
       "│           ┆ 2         ┆           ┆           ┆   ┆           ┆           ┆           ┆          │\n",
       "│ 4941      ┆ 2023-06-2 ┆ Prague_1  ┆ 9613.0    ┆ … ┆ 0.0       ┆ 0.0       ┆ 0.0       ┆ 0.0      │\n",
       "│           ┆ 0         ┆           ┆           ┆   ┆           ┆           ┆           ┆          │\n",
       "└───────────┴───────────┴───────────┴───────────┴───┴───────────┴───────────┴───────────┴──────────┘"
      ]
     },
     "execution_count": 11,
     "metadata": {},
     "output_type": "execute_result"
    }
   ],
   "source": [
    "sales_train"
   ]
  }
 ],
 "metadata": {
  "kernelspec": {
   "display_name": "Python 3",
   "language": "python",
   "name": "python3"
  },
  "language_info": {
   "codemirror_mode": {
    "name": "ipython",
    "version": 3
   },
   "file_extension": ".py",
   "mimetype": "text/x-python",
   "name": "python",
   "nbconvert_exporter": "python",
   "pygments_lexer": "ipython3",
   "version": "3.12.3"
  }
 },
 "nbformat": 4,
 "nbformat_minor": 2
}
